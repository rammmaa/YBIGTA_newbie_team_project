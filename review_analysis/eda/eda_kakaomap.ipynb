{
 "cells": [
  {
   "cell_type": "markdown",
   "id": "311ba7be",
   "metadata": {},
   "source": [
    "# Analyze Distribution"
   ]
  },
  {
   "cell_type": "code",
   "execution_count": null,
   "id": "b69cd34c",
   "metadata": {},
   "outputs": [],
   "source": [
    "import pandas as pd\n",
    "import matplotlib.pyplot as plt\n",
    "import seaborn as sns\n",
    "from datetime import datetime\n",
    "import os\n",
    "\n",
    "SITE = \"catchtable\"\n",
    "\n",
    "df = pd.read_csv(f\"../../database/reviews_{SITE}.csv\")\n",
    "\n",
    "# 텍스트 길이 계산\n",
    "df[\"review_len\"] = df[\"content\"].astype(str).str.len()\n",
    "\n",
    "# 날짜 변환\n",
    "df[\"date\"] = pd.to_datetime(df[\"date\"], format=\"%Y.%m.%d\", errors=\"coerce\")\n",
    "\n",
    "# 저장 폴더\n",
    "os.makedirs(f\"plots/{SITE}\", exist_ok=True)"
   ]
  },
  {
   "cell_type": "markdown",
   "id": "e62b082b",
   "metadata": {},
   "source": [
    "## Rating dist."
   ]
  },
  {
   "cell_type": "code",
   "execution_count": null,
   "id": "3ff58be7",
   "metadata": {},
   "outputs": [],
   "source": [
    "plt.figure(figsize=(6, 4))\n",
    "sns.countplot(x=\"rating\", data=df)\n",
    "plt.title(f\"{SITE} - Rating Distribution\")\n",
    "plt.xlabel(\"Rating\")\n",
    "plt.ylabel(\"Count\")\n",
    "plt.savefig(f\"plots/{SITE}/{SITE}_rating_dist.png\", bbox_inches=\"tight\")\n",
    "plt.close()"
   ]
  },
  {
   "cell_type": "markdown",
   "id": "26cbb923",
   "metadata": {},
   "source": [
    "## Review Length dist."
   ]
  },
  {
   "cell_type": "code",
   "execution_count": null,
   "id": "6b81c80b",
   "metadata": {},
   "outputs": [],
   "source": [
    "plt.figure(figsize=(6, 4))\n",
    "sns.histplot(df[\"review_len\"], bins=30, kde=True)\n",
    "plt.title(f\"{SITE} - Review Length Distribution\")\n",
    "plt.xlabel(\"Review Length\")\n",
    "plt.ylabel(\"Frequency\")\n",
    "plt.savefig(f\"plots/{SITE}/catchtable_reviewlen_dist.png\", bbox_inches=\"tight\")\n",
    "plt.close()\n"
   ]
  },
  {
   "cell_type": "markdown",
   "id": "85a811ec",
   "metadata": {},
   "source": [
    "## Date dist."
   ]
  },
  {
   "cell_type": "code",
   "execution_count": null,
   "id": "4b79055a",
   "metadata": {},
   "outputs": [],
   "source": [
    "plt.figure(figsize=(10, 4))\n",
    "df[\"date\"].dropna().dt.to_period(\"M\").value_counts().sort_index().plot()\n",
    "plt.title(f\"{SITE} - Monthly Review Count\")\n",
    "plt.xlabel(\"Month\")\n",
    "plt.ylabel(\"Count\")\n",
    "plt.xticks(rotation=45)\n",
    "plt.savefig(f\"plots/{SITE}/catchtable_date_dist.png\", bbox_inches=\"tight\")\n",
    "plt.close()\n"
   ]
  },
  {
   "cell_type": "markdown",
   "id": "76dbabd3",
   "metadata": {},
   "source": [
    "# Outlier Detection"
   ]
  },
  {
   "cell_type": "code",
   "execution_count": 15,
   "id": "fd92c016",
   "metadata": {},
   "outputs": [
    {
     "name": "stdout",
     "output_type": "stream",
     "text": [
      "[별점 이상치] 0개\n",
      "[너무 짧은 리뷰] 0개\n",
      "[너무 긴 리뷰] 14개\n",
      "[너무 오래된 리뷰] 0개\n",
      "[미래 날짜 리뷰] 0개\n"
     ]
    }
   ],
   "source": [
    "today = pd.Timestamp.today()\n",
    "\n",
    "invalid_rating = df[(df[\"rating\"] < 1) | (df[\"rating\"] > 5)]\n",
    "too_short = df[df[\"review_len\"] < 3]\n",
    "too_long = df[df[\"review_len\"] > 1800]  \n",
    "too_old = df[df[\"date\"] < \"2015-01-01\"]\n",
    "future_date = df[df[\"date\"] > today]\n",
    "\n",
    "print(f\"[별점 이상치] {len(invalid_rating)}개\")\n",
    "print(f\"[너무 짧은 리뷰] {len(too_short)}개\")\n",
    "print(f\"[너무 긴 리뷰] {len(too_long)}개\")\n",
    "print(f\"[너무 오래된 리뷰] {len(too_old)}개\")\n",
    "print(f\"[미래 날짜 리뷰] {len(future_date)}개\")"
   ]
  }
 ],
 "metadata": {
  "kernelspec": {
   "display_name": "ybigta",
   "language": "python",
   "name": "python3"
  },
  "language_info": {
   "codemirror_mode": {
    "name": "ipython",
    "version": 3
   },
   "file_extension": ".py",
   "mimetype": "text/x-python",
   "name": "python",
   "nbconvert_exporter": "python",
   "pygments_lexer": "ipython3",
   "version": "3.11.13"
  }
 },
 "nbformat": 4,
 "nbformat_minor": 5
}
